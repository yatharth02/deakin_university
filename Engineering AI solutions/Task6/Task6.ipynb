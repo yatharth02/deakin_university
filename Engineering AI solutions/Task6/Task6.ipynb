{
 "cells": [
  {
   "cell_type": "code",
   "execution_count": 1,
   "metadata": {},
   "outputs": [],
   "source": [
    "# To read the secret keys for Authentication\n",
    "import os\n",
    "from dotenv import load_dotenv\n",
    "from azure.core.credentials import AzureKeyCredential\n",
    "\n",
    "# To create new project\n",
    "from azure.ai.language.questionanswering.authoring import AuthoringClient\n",
    "\n",
    "# to create a question-answering client, and to ask questions using the knowledge base\n",
    "from azure.ai.language.questionanswering import QuestionAnsweringClient\n",
    "from azure.ai.language.questionanswering import models as qna"
   ]
  },
  {
   "cell_type": "code",
   "execution_count": 2,
   "metadata": {},
   "outputs": [],
   "source": [
    "# get service secrets\n",
    "load_dotenv()\n",
    "endpoint = os.environ.get(\"endpoint\")\n",
    "key = os.environ.get(\"subscription_key\")"
   ]
  },
  {
   "cell_type": "code",
   "execution_count": 3,
   "metadata": {},
   "outputs": [
    {
     "name": "stdout",
     "output_type": "stream",
     "text": [
      "\n",
      "********************** Creating a new project *********************\n"
     ]
    },
    {
     "ename": "ClientAuthenticationError",
     "evalue": "(401) Access denied due to invalid subscription key or wrong API endpoint. Make sure to provide a valid key for an active subscription and use a correct regional API endpoint for your resource.\nCode: 401\nMessage: Access denied due to invalid subscription key or wrong API endpoint. Make sure to provide a valid key for an active subscription and use a correct regional API endpoint for your resource.",
     "output_type": "error",
     "traceback": [
      "\u001b[1;31m---------------------------------------------------------------------------\u001b[0m",
      "\u001b[1;31mClientAuthenticationError\u001b[0m                 Traceback (most recent call last)",
      "Cell \u001b[1;32mIn[3], line 7\u001b[0m\n\u001b[0;32m      5\u001b[0m \u001b[38;5;28mprint\u001b[39m(\u001b[38;5;124m\"\u001b[39m\u001b[38;5;130;01m\\n\u001b[39;00m\u001b[38;5;124m********************** Creating a new project *********************\u001b[39m\u001b[38;5;124m\"\u001b[39m)\n\u001b[0;32m      6\u001b[0m project_name \u001b[38;5;241m=\u001b[39m \u001b[38;5;124m\"\u001b[39m\u001b[38;5;124mICICIBank-LoanFAQs\u001b[39m\u001b[38;5;124m\"\u001b[39m\n\u001b[1;32m----> 7\u001b[0m project \u001b[38;5;241m=\u001b[39m \u001b[43mauthoring_client\u001b[49m\u001b[38;5;241;43m.\u001b[39;49m\u001b[43mcreate_project\u001b[49m\u001b[43m(\u001b[49m\n\u001b[0;32m      8\u001b[0m \u001b[43m    \u001b[49m\u001b[43mproject_name\u001b[49m\u001b[38;5;241;43m=\u001b[39;49m\u001b[43mproject_name\u001b[49m\u001b[43m,\u001b[49m\n\u001b[0;32m      9\u001b[0m \u001b[43m    \u001b[49m\u001b[43moptions\u001b[49m\u001b[38;5;241;43m=\u001b[39;49m\u001b[43m{\u001b[49m\n\u001b[0;32m     10\u001b[0m \u001b[43m        \u001b[49m\u001b[38;5;124;43m\"\u001b[39;49m\u001b[38;5;124;43mdescription\u001b[39;49m\u001b[38;5;124;43m\"\u001b[39;49m\u001b[43m:\u001b[49m\u001b[43m \u001b[49m\u001b[38;5;124;43m\"\u001b[39;49m\u001b[38;5;124;43mFAQs related to ICICI banking loan system for Personal, Home and Car Loan.\u001b[39;49m\u001b[38;5;124;43m\"\u001b[39;49m\u001b[43m,\u001b[49m\n\u001b[0;32m     11\u001b[0m \u001b[43m        \u001b[49m\u001b[38;5;124;43m\"\u001b[39;49m\u001b[38;5;124;43mlanguage\u001b[39;49m\u001b[38;5;124;43m\"\u001b[39;49m\u001b[43m:\u001b[49m\u001b[43m \u001b[49m\u001b[38;5;124;43m\"\u001b[39;49m\u001b[38;5;124;43men\u001b[39;49m\u001b[38;5;124;43m\"\u001b[39;49m\u001b[43m,\u001b[49m\n\u001b[0;32m     12\u001b[0m \u001b[43m        \u001b[49m\u001b[38;5;124;43m\"\u001b[39;49m\u001b[38;5;124;43mmultilingualResource\u001b[39;49m\u001b[38;5;124;43m\"\u001b[39;49m\u001b[43m:\u001b[49m\u001b[43m \u001b[49m\u001b[38;5;28;43;01mTrue\u001b[39;49;00m\u001b[43m,\u001b[49m\n\u001b[0;32m     13\u001b[0m \u001b[43m        \u001b[49m\u001b[38;5;124;43m\"\u001b[39;49m\u001b[38;5;124;43msettings\u001b[39;49m\u001b[38;5;124;43m\"\u001b[39;49m\u001b[43m:\u001b[49m\u001b[43m \u001b[49m\u001b[43m{\u001b[49m\n\u001b[0;32m     14\u001b[0m \u001b[43m            \u001b[49m\u001b[38;5;124;43m\"\u001b[39;49m\u001b[38;5;124;43mdefaultAnswer\u001b[39;49m\u001b[38;5;124;43m\"\u001b[39;49m\u001b[43m:\u001b[49m\u001b[43m \u001b[49m\u001b[38;5;124;43m\"\u001b[39;49m\u001b[38;5;124;43mI\u001b[39;49m\u001b[38;5;124;43m'\u001b[39;49m\u001b[38;5;124;43mm sorry, I don\u001b[39;49m\u001b[38;5;124;43m'\u001b[39;49m\u001b[38;5;124;43mt have the information to answer that right now.\u001b[39;49m\u001b[38;5;124;43m\"\u001b[39;49m\n\u001b[0;32m     15\u001b[0m \u001b[43m        \u001b[49m\u001b[43m}\u001b[49m\u001b[43m,\u001b[49m\n\u001b[0;32m     16\u001b[0m \u001b[43m    \u001b[49m\u001b[43m}\u001b[49m\u001b[43m,\u001b[49m\n\u001b[0;32m     17\u001b[0m \u001b[43m\u001b[49m\u001b[43m)\u001b[49m\n\u001b[0;32m     19\u001b[0m \u001b[38;5;66;03m# Output 1: View the project details\u001b[39;00m\n\u001b[0;32m     20\u001b[0m \u001b[38;5;28mprint\u001b[39m(\u001b[38;5;124m\"\u001b[39m\u001b[38;5;124mview created project info:\u001b[39m\u001b[38;5;124m\"\u001b[39m)\n",
      "File \u001b[1;32mc:\\Users\\Dell\\AppData\\Local\\Programs\\Python\\Python312\\Lib\\site-packages\\azure\\core\\tracing\\decorator.py:78\u001b[0m, in \u001b[0;36mdistributed_trace.<locals>.decorator.<locals>.wrapper_use_tracer\u001b[1;34m(*args, **kwargs)\u001b[0m\n\u001b[0;32m     76\u001b[0m span_impl_type \u001b[38;5;241m=\u001b[39m settings\u001b[38;5;241m.\u001b[39mtracing_implementation()\n\u001b[0;32m     77\u001b[0m \u001b[38;5;28;01mif\u001b[39;00m span_impl_type \u001b[38;5;129;01mis\u001b[39;00m \u001b[38;5;28;01mNone\u001b[39;00m:\n\u001b[1;32m---> 78\u001b[0m     \u001b[38;5;28;01mreturn\u001b[39;00m \u001b[43mfunc\u001b[49m\u001b[43m(\u001b[49m\u001b[38;5;241;43m*\u001b[39;49m\u001b[43margs\u001b[49m\u001b[43m,\u001b[49m\u001b[43m \u001b[49m\u001b[38;5;241;43m*\u001b[39;49m\u001b[38;5;241;43m*\u001b[39;49m\u001b[43mkwargs\u001b[49m\u001b[43m)\u001b[49m\n\u001b[0;32m     80\u001b[0m \u001b[38;5;66;03m# Merge span is parameter is set, but only if no explicit parent are passed\u001b[39;00m\n\u001b[0;32m     81\u001b[0m \u001b[38;5;28;01mif\u001b[39;00m merge_span \u001b[38;5;129;01mand\u001b[39;00m \u001b[38;5;129;01mnot\u001b[39;00m passed_in_parent:\n",
      "File \u001b[1;32mc:\\Users\\Dell\\AppData\\Local\\Programs\\Python\\Python312\\Lib\\site-packages\\azure\\ai\\language\\questionanswering\\authoring\\_operations\\_operations.py:852\u001b[0m, in \u001b[0;36mAuthoringClientOperationsMixin.create_project\u001b[1;34m(self, project_name, options, **kwargs)\u001b[0m\n\u001b[0;32m    849\u001b[0m response \u001b[38;5;241m=\u001b[39m pipeline_response\u001b[38;5;241m.\u001b[39mhttp_response\n\u001b[0;32m    851\u001b[0m \u001b[38;5;28;01mif\u001b[39;00m response\u001b[38;5;241m.\u001b[39mstatus_code \u001b[38;5;129;01mnot\u001b[39;00m \u001b[38;5;129;01min\u001b[39;00m [\u001b[38;5;241m200\u001b[39m, \u001b[38;5;241m201\u001b[39m]:\n\u001b[1;32m--> 852\u001b[0m     \u001b[43mmap_error\u001b[49m\u001b[43m(\u001b[49m\u001b[43mstatus_code\u001b[49m\u001b[38;5;241;43m=\u001b[39;49m\u001b[43mresponse\u001b[49m\u001b[38;5;241;43m.\u001b[39;49m\u001b[43mstatus_code\u001b[49m\u001b[43m,\u001b[49m\u001b[43m \u001b[49m\u001b[43mresponse\u001b[49m\u001b[38;5;241;43m=\u001b[39;49m\u001b[43mresponse\u001b[49m\u001b[43m,\u001b[49m\u001b[43m \u001b[49m\u001b[43merror_map\u001b[49m\u001b[38;5;241;43m=\u001b[39;49m\u001b[43merror_map\u001b[49m\u001b[43m)\u001b[49m\n\u001b[0;32m    853\u001b[0m     \u001b[38;5;28;01mraise\u001b[39;00m HttpResponseError(response\u001b[38;5;241m=\u001b[39mresponse)\n\u001b[0;32m    855\u001b[0m \u001b[38;5;28;01mif\u001b[39;00m response\u001b[38;5;241m.\u001b[39mstatus_code \u001b[38;5;241m==\u001b[39m \u001b[38;5;241m200\u001b[39m:\n",
      "File \u001b[1;32mc:\\Users\\Dell\\AppData\\Local\\Programs\\Python\\Python312\\Lib\\site-packages\\azure\\core\\exceptions.py:164\u001b[0m, in \u001b[0;36mmap_error\u001b[1;34m(status_code, response, error_map)\u001b[0m\n\u001b[0;32m    162\u001b[0m     \u001b[38;5;28;01mreturn\u001b[39;00m\n\u001b[0;32m    163\u001b[0m error \u001b[38;5;241m=\u001b[39m error_type(response\u001b[38;5;241m=\u001b[39mresponse)\n\u001b[1;32m--> 164\u001b[0m \u001b[38;5;28;01mraise\u001b[39;00m error\n",
      "\u001b[1;31mClientAuthenticationError\u001b[0m: (401) Access denied due to invalid subscription key or wrong API endpoint. Make sure to provide a valid key for an active subscription and use a correct regional API endpoint for your resource.\nCode: 401\nMessage: Access denied due to invalid subscription key or wrong API endpoint. Make sure to provide a valid key for an active subscription and use a correct regional API endpoint for your resource."
     ]
    }
   ],
   "source": [
    "# Create new project, add knowledge base and deploy it.\n",
    "with AuthoringClient(endpoint, AzureKeyCredential(key)) as authoring_client:\n",
    "\n",
    "    # Step 1: create project\n",
    "    print(\"\\n********************** Creating a new project *********************\")\n",
    "    project_name = \"ICICIBank-LoanFAQs\"\n",
    "    project = authoring_client.create_project(\n",
    "        project_name=project_name,\n",
    "        options={\n",
    "            \"description\": \"FAQs related to ICICI banking loan system for Personal, Home and Car Loan.\",\n",
    "            \"language\": \"en\",\n",
    "            \"multilingualResource\": True,\n",
    "            \"settings\": {\n",
    "                \"defaultAnswer\": \"I'm sorry, I don't have the information to answer that right now.\"\n",
    "            },\n",
    "        },\n",
    "    )\n",
    "\n",
    "    # Output 1: View the project details\n",
    "    print(\"view created project info:\")\n",
    "    print(\"\\tname: {}\".format(project[\"projectName\"]))\n",
    "    print(\"\\tlanguage: {}\".format(project[\"language\"]))\n",
    "    print(\"\\tdescription: {}\".format(project[\"description\"]))\n",
    "\n",
    "    # Step 2: Add a knowledge base\n",
    "    print(\"\\n********************* Adding a knowledge base *********************\")\n",
    "\n",
    "    update_sources_poller = authoring_client.begin_update_sources(\n",
    "        project_name=project_name,\n",
    "        sources=[\n",
    "            {\n",
    "                \"op\": \"add\",\n",
    "                \"value\": {\n",
    "                    \"displayName\": \"Personal Loan FAQ\",\n",
    "                    \"sourceUri\": \"https://www.icicibank.com/personal-banking/loans/personal-loan/personal-loans-faqs\",\n",
    "                    \"sourceKind\": \"url\",\n",
    "                },\n",
    "            },\n",
    "            {\n",
    "                \"op\": \"add\",\n",
    "                \"value\": {\n",
    "                    \"displayName\": \"Home Loan FAQ\",\n",
    "                    \"sourceUri\": \"https://www.icicibank.com/personal-banking/loans/home-loan/home-loans-faqs\",\n",
    "                    \"sourceKind\": \"url\",\n",
    "                },\n",
    "            },\n",
    "            {\n",
    "                \"op\": \"add\",\n",
    "                \"value\": {\n",
    "                    \"displayName\": \"Car Loan FAQ\",\n",
    "                    \"sourceUri\": \"https://www.icicibank.com/personal-banking/loans/car-loan/car-loans-faqs\",\n",
    "                    \"sourceKind\": \"url\",\n",
    "                },\n",
    "            },\n",
    "        ],\n",
    "    )\n",
    "    update_sources_poller.result()\n",
    "\n",
    "    # Output 2: list sources\n",
    "    print(\"\\nlist project sources\")\n",
    "    sources = authoring_client.list_sources(project_name=project_name)\n",
    "    for source in sources:\n",
    "        print(\"knowledge base name: {}\".format(source[\"displayName\"]))\n",
    "        print(\"\\tsource: {}\".format(source[\"source\"]))\n",
    "        print(\"\\tsource Uri: {}\".format(source[\"sourceUri\"]))\n",
    "        print(\"\\tsource kind: {}\".format(source[\"sourceKind\"]))\n",
    "\n",
    "    # Step 3: deploy the project\n",
    "    print(\"\\n********************** Deploying the project **********************\")\n",
    "\n",
    "    deployment_poller = authoring_client.begin_deploy_project(\n",
    "        project_name=project_name, deployment_name=\"production\"\n",
    "    )\n",
    "    deployment_poller.result()\n",
    "\n",
    "    # list all deployments\n",
    "    deployments = authoring_client.list_deployments(project_name=project_name)\n",
    "\n",
    "    print(\"view project deployments\")\n",
    "    for d in deployments:\n",
    "        print(d)"
   ]
  },
  {
   "cell_type": "code",
   "execution_count": 16,
   "metadata": {},
   "outputs": [],
   "source": [
    "def ask_question(question):\n",
    "    with QuestionAnsweringClient(endpoint, AzureKeyCredential(key)) as qna_client:\n",
    "        output = qna_client.get_answers(\n",
    "            question=question,\n",
    "            top=3,\n",
    "            confidence_threshold=0.5,\n",
    "            include_unstructured_sources=True,\n",
    "            short_answer_options=qna.ShortAnswerOptions(\n",
    "                confidence_threshold=0.5, top=1\n",
    "            ),\n",
    "            project_name=project_name,\n",
    "            deployment_name=\"production\",\n",
    "        )\n",
    "        answers = (\n",
    "            [a for a in output.answers if a.confidence and a.confidence > 0.5]\n",
    "            if output.answers\n",
    "            else []\n",
    "        )\n",
    "        if len(answers) > 0:\n",
    "            best_candidate = answers[0]\n",
    "            print(f\"Q: {question}\")\n",
    "            print(f\"A: {best_candidate.answer}\")\n",
    "        else:\n",
    "            print(f\"No answers returned from question '{question}'\")"
   ]
  },
  {
   "cell_type": "code",
   "execution_count": 17,
   "metadata": {},
   "outputs": [
    {
     "name": "stdout",
     "output_type": "stream",
     "text": [
      "Q: personal loan interest rate?\n",
      "A: Personal Loan interest rates are applied basis the defined pricing matrix followed and standardised by the bank as per customer’s profile. Personal Loan rates vary from 10.80% to 16.15% per annum.\n"
     ]
    }
   ],
   "source": [
    "# 1. Test by asking a question\n",
    "ask_question(\"personal loan interest rate?\")"
   ]
  },
  {
   "cell_type": "code",
   "execution_count": 18,
   "metadata": {},
   "outputs": [
    {
     "name": "stdout",
     "output_type": "stream",
     "text": [
      "No answers returned from question 'offer me tea in bank?'\n"
     ]
    }
   ],
   "source": [
    "# 2. Test by asking a non relevant question\n",
    "ask_question(\"offer me tea in bank?\")"
   ]
  }
 ],
 "metadata": {
  "kernelspec": {
   "display_name": "Python 3",
   "language": "python",
   "name": "python3"
  },
  "language_info": {
   "codemirror_mode": {
    "name": "ipython",
    "version": 3
   },
   "file_extension": ".py",
   "mimetype": "text/x-python",
   "name": "python",
   "nbconvert_exporter": "python",
   "pygments_lexer": "ipython3",
   "version": "3.12.2"
  }
 },
 "nbformat": 4,
 "nbformat_minor": 2
}
